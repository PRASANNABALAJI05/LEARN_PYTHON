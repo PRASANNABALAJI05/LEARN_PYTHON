{
  "nbformat": 4,
  "nbformat_minor": 0,
  "metadata": {
    "colab": {
      "provenance": [],
      "toc_visible": true,
      "authorship_tag": "ABX9TyMNA5jPh5bWXlLy9Ugr1Rfy",
      "include_colab_link": true
    },
    "kernelspec": {
      "name": "python3",
      "display_name": "Python 3"
    },
    "language_info": {
      "name": "python"
    }
  },
  "cells": [
    {
      "cell_type": "markdown",
      "metadata": {
        "id": "view-in-github",
        "colab_type": "text"
      },
      "source": [
        "<a href=\"https://colab.research.google.com/github/PRASANNABALAJI05/LEARN_PYTHON/blob/main/learn_python.ipynb\" target=\"_parent\"><img src=\"https://colab.research.google.com/assets/colab-badge.svg\" alt=\"Open In Colab\"/></a>"
      ]
    },
    {
      "cell_type": "code",
      "source": [
        "#study of printing anf f - format\n",
        "first_name = 'prasanna'\n",
        "last_name = 'balaji'\n",
        "full_name = f\"{first_name} {last_name}\"\n",
        "message = f\"I AM VERY HAPPY MR. {full_name.upper()} FOR YOUR PRESENCE\"\n",
        "print(message)"
      ],
      "metadata": {
        "colab": {
          "base_uri": "https://localhost:8080/"
        },
        "id": "tmd15K3OJBVY",
        "outputId": "25baed7a-5ced-4c85-c52a-bac2ed8d6697"
      },
      "execution_count": null,
      "outputs": [
        {
          "output_type": "stream",
          "name": "stdout",
          "text": [
            "I AM VERY HAPPY MR. PRASANNA BALAJI FOR YOUR PRESENCE\n"
          ]
        }
      ]
    },
    {
      "cell_type": "code",
      "source": [
        "print(\"\\tpython\")  #to add a tab : \\t\n",
        "print(\"prasanna\\nbalaji\\nbalamurugan\") #to make values appear in next line"
      ],
      "metadata": {
        "colab": {
          "base_uri": "https://localhost:8080/"
        },
        "id": "bJD-DrJ4KNyi",
        "outputId": "2dfd095a-f937-44da-f99a-3aa12d487dea"
      },
      "execution_count": null,
      "outputs": [
        {
          "output_type": "stream",
          "name": "stdout",
          "text": [
            "\tpython\n",
            "prasanna\n",
            "balaji\n",
            "balamurugan\n"
          ]
        }
      ]
    },
    {
      "cell_type": "code",
      "source": [
        "#strips are used to void white spacing in the values for a neat output which is usefull for readers\n",
        "cat = \" meow \"\n",
        "print(cat.rstrip())\n",
        "print(cat.lstrip())\n",
        "print(cat.strip())\n"
      ],
      "metadata": {
        "colab": {
          "base_uri": "https://localhost:8080/"
        },
        "id": "pn0F6fZWK48k",
        "outputId": "c08e3484-499e-45bd-d458-9acbc34ad327"
      },
      "execution_count": null,
      "outputs": [
        {
          "output_type": "stream",
          "name": "stdout",
          "text": [
            " meow\n",
            "meow \n",
            "meow\n"
          ]
        }
      ]
    },
    {
      "cell_type": "code",
      "source": [
        "#adding and removing prefix and suffix\n",
        "url = 'http://python.org'\n",
        "#removing prefix\n",
        "print(url.removeprefix('http://'))\n",
        "#remove sufix\n",
        "print(url.removesuffix('python.org'))"
      ],
      "metadata": {
        "colab": {
          "base_uri": "https://localhost:8080/"
        },
        "id": "9xxyMLdkLdVw",
        "outputId": "6ea5b118-57c0-4b6b-9b8e-516ee38238d0"
      },
      "execution_count": null,
      "outputs": [
        {
          "output_type": "stream",
          "name": "stdout",
          "text": [
            "python.org\n",
            "http://\n"
          ]
        }
      ]
    },
    {
      "cell_type": "code",
      "source": [
        "#study of list\n",
        "car = ['honda','bmw','audi','benz']\n",
        "msg = f\"my favorite car is {car[2].upper()}\"\n",
        "print(msg.title())\n",
        "#modifying, adding and removing elements in list\n",
        "\n",
        "#modifying a element\n",
        "bike = ['honda','hero','yamaha']\n",
        "print(\"\\n\",bike)\n",
        "\n",
        "bike[0] = 'ktm'\n",
        "print(\"\\n\",bike)\n",
        "\n"
      ],
      "metadata": {
        "colab": {
          "base_uri": "https://localhost:8080/"
        },
        "id": "yo3i5zgKNTEA",
        "outputId": "ac92933a-9a86-4311-a47b-587edcc8d225"
      },
      "execution_count": null,
      "outputs": [
        {
          "output_type": "stream",
          "name": "stdout",
          "text": [
            "My Favorite Car Is Audi\n",
            "\n",
            " ['honda', 'hero', 'yamaha']\n",
            "\n",
            " ['ktm', 'hero', 'yamaha']\n"
          ]
        }
      ]
    },
    {
      "cell_type": "code",
      "source": [
        "#adding and element\n",
        "bike.append('honda')\n",
        "print(bike)\n",
        "\n",
        "color =[]\n",
        "color.append('red')\n",
        "color.append('yellow')\n",
        "color.append('black')\n",
        "print(color)\n",
        "\n",
        "#inserting an element\n",
        "color.insert(2,'blue')\n",
        "print(color)"
      ],
      "metadata": {
        "colab": {
          "base_uri": "https://localhost:8080/"
        },
        "id": "7nEu8rfqbUez",
        "outputId": "53a9ff78-6c6d-4b94-c5cd-c13be2e3e713"
      },
      "execution_count": null,
      "outputs": [
        {
          "output_type": "stream",
          "name": "stdout",
          "text": [
            "['ktm', 'hero', 'yamaha', 'honda', 'honda']\n",
            "['red', 'yellow', 'black']\n",
            "['red', 'yellow', 'blue', 'black']\n"
          ]
        }
      ]
    },
    {
      "cell_type": "code",
      "source": [
        "#removing a element#\n",
        "\n",
        " #using remove method\n",
        "car = ['honda','bmw','audi','kia']\n",
        "car.remove('bmw')\n",
        "print(car)\n",
        " #using del method\n",
        "color = ['red','white','blue','black']\n",
        "del color[3]\n",
        "print(color)\n",
        "\n",
        "#using pop method\n",
        "\n",
        "bikes = ['honda','tvs','ktm','bajaj']\n",
        "popped_bike = bikes.pop()\n",
        "print(bikes) #output after popping the last element of stack\n",
        "print(popped_bike) #prints the last element in the list\n",
        "\n",
        "#we can pop element from any position#\n",
        "popped_bike = bikes.pop(1)\n",
        "print(bikes)\n",
        "print(popped_bike)\n"
      ],
      "metadata": {
        "colab": {
          "base_uri": "https://localhost:8080/"
        },
        "id": "-jjLxhMPbhjb",
        "outputId": "0cec6fd3-46fa-456f-877f-fc0a0e4df650"
      },
      "execution_count": null,
      "outputs": [
        {
          "output_type": "stream",
          "name": "stdout",
          "text": [
            "['honda', 'audi', 'kia']\n",
            "['red', 'white', 'blue']\n",
            "['honda', 'tvs', 'ktm']\n",
            "bajaj\n",
            "['honda', 'ktm']\n",
            "tvs\n"
          ]
        }
      ]
    },
    {
      "cell_type": "code",
      "source": [
        "#  PRACTICE WHAT WE LEARNT THROUGH EXAMPLES   #\n",
        "\n",
        "first_name = 'prasanna'\n",
        "last_name = 'balaji'\n",
        "full_name = f\"{first_name} {last_name}\"\n",
        "message1 = f\"Hello,{full_name.upper()}, We are really happy to have you here.\"\n",
        "bikes = ['honda','yamaha','tvs','bmw']\n",
        "cars = ['maruthi','kia','bmw','rolls royce']\n",
        "message2 = f\"My first car is {cars[0].title()}, I sold my second car {cars[1].title()}\"\n",
        "worst_bike = bikes.pop(3)\n",
        "message3 = f\"The worst bike I bought is {worst_bike.upper()}. So I sold it and bought a new bike {bikes[1].upper(p.)}.\"\n",
        "\n",
        "print(message1,\"\\n\")\n",
        "print(message2,\"\\n\")\n",
        "print(message3)"
      ],
      "metadata": {
        "colab": {
          "base_uri": "https://localhost:8080/"
        },
        "id": "i0Tfv0QQdrdw",
        "outputId": "4e0db21f-36b1-4064-a720-f63f91002bb6"
      },
      "execution_count": null,
      "outputs": [
        {
          "output_type": "stream",
          "name": "stdout",
          "text": [
            "Hello,PRASANNA BALAJI, We are really happy to have you here. \n",
            "\n",
            "My first car is Maruthi, I sold my second car Kia \n",
            "\n",
            "The worst bike I bought is BMW. So I sold it and bought a new bike YAMAHA.\n"
          ]
        }
      ]
    },
    {
      "cell_type": "code",
      "source": [
        "#sorting\n",
        "cars=['honda','bmw','audi']\n",
        "cars.sort()     #sort will arrange all the elements in a list in alphabatic order\n",
        "print(cars)     #it is a permenent sorting method\n",
        "print(cars)\n",
        "\n",
        "bikes = ['honda','yamaha','tvs','bajaj']\n",
        "print(\"\\n\",bikes)\n",
        "print(sorted(bikes))  #it is a temporart sorting method\n",
        "print(bikes)\n",
        "\n",
        "color = ['red','blue','green']\n",
        "color.sort(reverse=True)   #prints in reverse alphabatic order\n",
        "print(\"\\n\",color)"
      ],
      "metadata": {
        "colab": {
          "base_uri": "https://localhost:8080/"
        },
        "id": "qQ-Ny-Cevmb8",
        "outputId": "e85858a2-496a-44de-c1b5-2a7e624c4d65"
      },
      "execution_count": null,
      "outputs": [
        {
          "output_type": "stream",
          "name": "stdout",
          "text": [
            "['audi', 'bmw', 'honda']\n",
            "['audi', 'bmw', 'honda']\n",
            "\n",
            " ['honda', 'yamaha', 'tvs', 'bajaj']\n",
            "['bajaj', 'honda', 'tvs', 'yamaha']\n",
            "['honda', 'yamaha', 'tvs', 'bajaj']\n",
            "\n",
            " ['red', 'green', 'blue']\n"
          ]
        }
      ]
    },
    {
      "cell_type": "code",
      "source": [
        "#reversing elements in list\n",
        "bikes = ['bajaj','honda','bmw','tvs']\n",
        "print(bikes)\n",
        "bikes.reverse()\n",
        "print(bikes)\n"
      ],
      "metadata": {
        "colab": {
          "base_uri": "https://localhost:8080/"
        },
        "id": "ynp_XfY4wrcT",
        "outputId": "881ac049-4d28-4817-cdee-46113aa504a5"
      },
      "execution_count": null,
      "outputs": [
        {
          "output_type": "stream",
          "name": "stdout",
          "text": [
            "['bajaj', 'honda', 'bmw', 'tvs']\n",
            "['tvs', 'bmw', 'honda', 'bajaj']\n"
          ]
        }
      ]
    },
    {
      "cell_type": "code",
      "source": [
        "#to find the length of elements in list\n",
        "\n",
        "color = ['red','blue','green','yellow']\n",
        "len(color)   #using len will help in finding number of elements in a list"
      ],
      "metadata": {
        "colab": {
          "base_uri": "https://localhost:8080/"
        },
        "id": "7k2O5Vx3xqsZ",
        "outputId": "82df7804-c4f3-48b8-cce9-7e81069033e7"
      },
      "execution_count": null,
      "outputs": [
        {
          "output_type": "execute_result",
          "data": {
            "text/plain": [
              "4"
            ]
          },
          "metadata": {},
          "execution_count": 138
        }
      ]
    }
  ]
}